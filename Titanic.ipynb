{
 "cells": [
  {
   "cell_type": "code",
   "execution_count": 1,
   "id": "0fac0f93",
   "metadata": {
    "_cell_guid": "b1076dfc-b9ad-4769-8c92-a6c4dae69d19",
    "_uuid": "8f2839f25d086af736a60e9eeb907d3b93b6e0e5",
    "execution": {
     "iopub.execute_input": "2025-02-04T21:38:29.407668Z",
     "iopub.status.busy": "2025-02-04T21:38:29.407296Z",
     "iopub.status.idle": "2025-02-04T21:38:31.880242Z",
     "shell.execute_reply": "2025-02-04T21:38:31.879159Z"
    },
    "papermill": {
     "duration": 2.479049,
     "end_time": "2025-02-04T21:38:31.881955",
     "exception": false,
     "start_time": "2025-02-04T21:38:29.402906",
     "status": "completed"
    },
    "tags": []
   },
   "outputs": [
    {
     "name": "stdout",
     "output_type": "stream",
     "text": [
      "/kaggle/input/titanic/train.csv\n",
      "/kaggle/input/titanic/test.csv\n",
      "/kaggle/input/titanic/gender_submission.csv\n"
     ]
    }
   ],
   "source": [
    "# This Python 3 environment comes with many helpful analytics libraries installed\n",
    "# It is defined by the kaggle/python Docker image: https://github.com/kaggle/docker-python\n",
    "# For example, here's several helpful packages to load\n",
    "\n",
    "import numpy as np # linear algebra\n",
    "import pandas as pd # data processing, CSV file I/O (e.g. pd.read_csv)\n",
    "import seaborn as sns\n",
    "import matplotlib.pyplot as plt\n",
    "\n",
    "# Input data files are available in the read-only \"../input/\" directory\n",
    "# For example, running this (by clicking run or pressing Shift+Enter) will list all files under the input directory\n",
    "\n",
    "import os\n",
    "for dirname, _, filenames in os.walk('/kaggle/input'):\n",
    "    for filename in filenames:\n",
    "        print(os.path.join(dirname, filename))\n",
    "\n",
    "# You can write up to 20GB to the current directory (/kaggle/working/) that gets preserved as output when you create a version using \"Save & Run All\" \n",
    "# You can also write temporary files to /kaggle/temp/, but they won't be saved outside of the current session"
   ]
  },
  {
   "cell_type": "markdown",
   "id": "b7b997b8",
   "metadata": {
    "papermill": {
     "duration": 0.00243,
     "end_time": "2025-02-04T21:38:31.887480",
     "exception": false,
     "start_time": "2025-02-04T21:38:31.885050",
     "status": "completed"
    },
    "tags": []
   },
   "source": [
    "# Loading the Data"
   ]
  },
  {
   "cell_type": "code",
   "execution_count": 2,
   "id": "2797d4c1",
   "metadata": {
    "execution": {
     "iopub.execute_input": "2025-02-04T21:38:31.893748Z",
     "iopub.status.busy": "2025-02-04T21:38:31.893273Z",
     "iopub.status.idle": "2025-02-04T21:38:31.924288Z",
     "shell.execute_reply": "2025-02-04T21:38:31.923464Z"
    },
    "papermill": {
     "duration": 0.036235,
     "end_time": "2025-02-04T21:38:31.926172",
     "exception": false,
     "start_time": "2025-02-04T21:38:31.889937",
     "status": "completed"
    },
    "tags": []
   },
   "outputs": [],
   "source": [
    "df_train = pd.read_csv('/kaggle/input/titanic/train.csv')\n",
    "df_test = pd.read_csv('/kaggle/input/titanic/test.csv')\n",
    "df_gender = pd.read_csv('/kaggle/input/titanic/gender_submission.csv')"
   ]
  },
  {
   "cell_type": "code",
   "execution_count": 3,
   "id": "81bf21ec",
   "metadata": {
    "execution": {
     "iopub.execute_input": "2025-02-04T21:38:31.932859Z",
     "iopub.status.busy": "2025-02-04T21:38:31.932507Z",
     "iopub.status.idle": "2025-02-04T21:38:31.961375Z",
     "shell.execute_reply": "2025-02-04T21:38:31.960117Z"
    },
    "papermill": {
     "duration": 0.033928,
     "end_time": "2025-02-04T21:38:31.963098",
     "exception": false,
     "start_time": "2025-02-04T21:38:31.929170",
     "status": "completed"
    },
    "tags": []
   },
   "outputs": [
    {
     "name": "stdout",
     "output_type": "stream",
     "text": [
      "<class 'pandas.core.frame.DataFrame'>\n",
      "RangeIndex: 891 entries, 0 to 890\n",
      "Data columns (total 12 columns):\n",
      " #   Column       Non-Null Count  Dtype  \n",
      "---  ------       --------------  -----  \n",
      " 0   PassengerId  891 non-null    int64  \n",
      " 1   Survived     891 non-null    int64  \n",
      " 2   Pclass       891 non-null    int64  \n",
      " 3   Name         891 non-null    object \n",
      " 4   Sex          891 non-null    object \n",
      " 5   Age          714 non-null    float64\n",
      " 6   SibSp        891 non-null    int64  \n",
      " 7   Parch        891 non-null    int64  \n",
      " 8   Ticket       891 non-null    object \n",
      " 9   Fare         891 non-null    float64\n",
      " 10  Cabin        204 non-null    object \n",
      " 11  Embarked     889 non-null    object \n",
      "dtypes: float64(2), int64(5), object(5)\n",
      "memory usage: 83.7+ KB\n"
     ]
    }
   ],
   "source": [
    "df_train.info()"
   ]
  },
  {
   "cell_type": "code",
   "execution_count": 4,
   "id": "65de9f7f",
   "metadata": {
    "execution": {
     "iopub.execute_input": "2025-02-04T21:38:31.970271Z",
     "iopub.status.busy": "2025-02-04T21:38:31.969942Z",
     "iopub.status.idle": "2025-02-04T21:38:31.976329Z",
     "shell.execute_reply": "2025-02-04T21:38:31.975223Z"
    },
    "papermill": {
     "duration": 0.011829,
     "end_time": "2025-02-04T21:38:31.977901",
     "exception": false,
     "start_time": "2025-02-04T21:38:31.966072",
     "status": "completed"
    },
    "tags": []
   },
   "outputs": [
    {
     "name": "stdout",
     "output_type": "stream",
     "text": [
      "PassengerId      0\n",
      "Survived         0\n",
      "Pclass           0\n",
      "Name             0\n",
      "Sex              0\n",
      "Age            177\n",
      "SibSp            0\n",
      "Parch            0\n",
      "Ticket           0\n",
      "Fare             0\n",
      "Cabin          687\n",
      "Embarked         2\n",
      "dtype: int64\n"
     ]
    }
   ],
   "source": [
    "print(df_train.isnull().sum())"
   ]
  },
  {
   "cell_type": "code",
   "execution_count": 5,
   "id": "5e0c968e",
   "metadata": {
    "execution": {
     "iopub.execute_input": "2025-02-04T21:38:31.984976Z",
     "iopub.status.busy": "2025-02-04T21:38:31.984664Z",
     "iopub.status.idle": "2025-02-04T21:38:32.013398Z",
     "shell.execute_reply": "2025-02-04T21:38:32.012257Z"
    },
    "papermill": {
     "duration": 0.034201,
     "end_time": "2025-02-04T21:38:32.015114",
     "exception": false,
     "start_time": "2025-02-04T21:38:31.980913",
     "status": "completed"
    },
    "tags": []
   },
   "outputs": [
    {
     "name": "stdout",
     "output_type": "stream",
     "text": [
      "       PassengerId    Survived      Pclass         Age       SibSp  \\\n",
      "count   891.000000  891.000000  891.000000  714.000000  891.000000   \n",
      "mean    446.000000    0.383838    2.308642   29.699118    0.523008   \n",
      "std     257.353842    0.486592    0.836071   14.526497    1.102743   \n",
      "min       1.000000    0.000000    1.000000    0.420000    0.000000   \n",
      "25%     223.500000    0.000000    2.000000   20.125000    0.000000   \n",
      "50%     446.000000    0.000000    3.000000   28.000000    0.000000   \n",
      "75%     668.500000    1.000000    3.000000   38.000000    1.000000   \n",
      "max     891.000000    1.000000    3.000000   80.000000    8.000000   \n",
      "\n",
      "            Parch        Fare  \n",
      "count  891.000000  891.000000  \n",
      "mean     0.381594   32.204208  \n",
      "std      0.806057   49.693429  \n",
      "min      0.000000    0.000000  \n",
      "25%      0.000000    7.910400  \n",
      "50%      0.000000   14.454200  \n",
      "75%      0.000000   31.000000  \n",
      "max      6.000000  512.329200  \n"
     ]
    }
   ],
   "source": [
    "print(df_train.describe())"
   ]
  },
  {
   "cell_type": "code",
   "execution_count": 6,
   "id": "47750353",
   "metadata": {
    "execution": {
     "iopub.execute_input": "2025-02-04T21:38:32.022739Z",
     "iopub.status.busy": "2025-02-04T21:38:32.022372Z",
     "iopub.status.idle": "2025-02-04T21:38:32.249398Z",
     "shell.execute_reply": "2025-02-04T21:38:32.248278Z"
    },
    "papermill": {
     "duration": 0.23279,
     "end_time": "2025-02-04T21:38:32.251230",
     "exception": false,
     "start_time": "2025-02-04T21:38:32.018440",
     "status": "completed"
    },
    "tags": []
   },
   "outputs": [
    {
     "data": {
      "text/plain": [
       "<function matplotlib.pyplot.show(close=None, block=None)>"
      ]
     },
     "execution_count": 6,
     "metadata": {},
     "output_type": "execute_result"
    },
    {
     "data": {
      "image/png": "[encoded data removed]",
      "text/plain": [
       "<Figure size 640x480 with 1 Axes>"
      ]
     },
     "metadata": {},
     "output_type": "display_data"
    }
   ],
   "source": [
    "sns.countplot(x='Survived', data=df_train)\n",
    "plt.show"
   ]
  },
  {
   "cell_type": "code",
   "execution_count": 7,
   "id": "aab9d10b",
   "metadata": {
    "execution": {
     "iopub.execute_input": "2025-02-04T21:38:32.259357Z",
     "iopub.status.busy": "2025-02-04T21:38:32.259051Z",
     "iopub.status.idle": "2025-02-04T21:38:32.396459Z",
     "shell.execute_reply": "2025-02-04T21:38:32.395441Z"
    },
    "papermill": {
     "duration": 0.143597,
     "end_time": "2025-02-04T21:38:32.398251",
     "exception": false,
     "start_time": "2025-02-04T21:38:32.254654",
     "status": "completed"
    },
    "tags": []
   },
   "outputs": [
    {
     "data": {
      "image/png": "[encoded data removed]",
      "text/plain": [
       "<Figure size 640x480 with 1 Axes>"
      ]
     },
     "metadata": {},
     "output_type": "display_data"
    }
   ],
   "source": [
    "sns.countplot(x='Survived', hue='Sex', data=df_train)\n",
    "plt.show()"
   ]
  },
  {
   "cell_type": "code",
   "execution_count": 8,
   "id": "e58bb92a",
   "metadata": {
    "execution": {
     "iopub.execute_input": "2025-02-04T21:38:32.407231Z",
     "iopub.status.busy": "2025-02-04T21:38:32.406919Z",
     "iopub.status.idle": "2025-02-04T21:38:32.570209Z",
     "shell.execute_reply": "2025-02-04T21:38:32.569188Z"
    },
    "papermill": {
     "duration": 0.169586,
     "end_time": "2025-02-04T21:38:32.571929",
     "exception": false,
     "start_time": "2025-02-04T21:38:32.402343",
     "status": "completed"
    },
    "tags": []
   },
   "outputs": [
    {
     "data": {
      "image/png": "[encoded data removed]",
      "text/plain": [
       "<Figure size 640x480 with 1 Axes>"
      ]
     },
     "metadata": {},
     "output_type": "display_data"
    }
   ],
   "source": [
    "# Survival by passenger class\n",
    "sns.countplot(x='Survived', hue='Pclass', data=df_train)\n",
    "plt.show()"
   ]
  },
  {
   "cell_type": "code",
   "execution_count": null,
   "id": "135d40f0",
   "metadata": {
    "papermill": {
     "duration": 0.003713,
     "end_time": "2025-02-04T21:38:32.579787",
     "exception": false,
     "start_time": "2025-02-04T21:38:32.576074",
     "status": "completed"
    },
    "tags": []
   },
   "outputs": [],
   "source": []
  }
 ],
 "metadata": {
  "kaggle": {
   "accelerator": "none",
   "dataSources": [
    {
     "databundleVersionId": 26502,
     "sourceId": 3136,
     "sourceType": "competition"
    }
   ],
   "dockerImageVersionId": 30839,
   "isGpuEnabled": false,
   "isInternetEnabled": false,
   "language": "python",
   "sourceType": "notebook"
  },
  "kernelspec": {
   "display_name": "Python 3",
   "language": "python",
   "name": "python3"
  },
  "language_info": {
   "codemirror_mode": {
    "name": "ipython",
    "version": 3
   },
   "file_extension": ".py",
   "mimetype": "text/x-python",
   "name": "python",
   "nbconvert_exporter": "python",
   "pygments_lexer": "ipython3",
   "version": "3.10.12"
  },
  "papermill": {
   "default_parameters": {},
   "duration": 6.602661,
   "end_time": "2025-02-04T21:38:33.303834",
   "environment_variables": {},
   "exception": null,
   "input_path": "__notebook__.ipynb",
   "output_path": "__notebook__.ipynb",
   "parameters": {},
   "start_time": "2025-02-04T21:38:26.701173",
   "version": "2.6.0"
  }
 },
 "nbformat": 4,
 "nbformat_minor": 5
}
